{
 "cells": [
  {
   "cell_type": "code",
   "execution_count": null,
   "metadata": {},
   "outputs": [],
   "source": [
    "import cv2\n",
    "import os\n",
    "\n",
    "# Specify the directory to save the images\n",
    "save_dir = 'Dataset/Testing/2'\n",
    "if not os.path.exists(save_dir):\n",
    "    os.makedirs(save_dir)\n",
    "\n",
    "# Load the pre-trained face detector\n",
    "face_cascade = cv2.CascadeClassifier(cv2.data.haarcascades + 'haarcascade_frontalface_default.xml')\n",
    "\n",
    "# Open a connection to the webcam\n",
    "cap = cv2.VideoCapture(0)\n",
    "\n",
    "# Counter for saved images\n",
    "image_counter = 0\n",
    "\n",
    "while True:\n",
    "    # Read a frame from the webcam\n",
    "    ret, frame = cap.read()\n",
    "    if not ret:\n",
    "        print(\"Failed to capture frame\")\n",
    "        break\n",
    "\n",
    "    # Convert frame to grayscale for face detection\n",
    "    gray = cv2.cvtColor(frame, cv2.COLOR_BGR2GRAY)\n",
    "\n",
    "    # Detect faces in the frame\n",
    "    faces = face_cascade.detectMultiScale(gray, scaleFactor=1.1, minNeighbors=5, minSize=(30, 30))\n",
    "\n",
    "    # Draw rectangles around detected faces\n",
    "    for (x, y, w, h) in faces:\n",
    "        cv2.rectangle(frame, (x, y), (x+w, y+h), (0, 255, 0), 2)\n",
    "\n",
    "    # Display the resulting frame\n",
    "    cv2.imshow('Face Detection', frame)\n",
    "\n",
    "    # Check if the space button is pressed\n",
    "    key = cv2.waitKey(1) & 0xFF\n",
    "    if key == ord(' '):  # Space button pressed\n",
    "        for (x, y, w, h) in faces:\n",
    "            # Extract the face ROI\n",
    "            face_roi = frame[y:y+h, x:x+w]\n",
    "\n",
    "            # Save the face ROI as an image\n",
    "            image_path = os.path.join(save_dir, f'face_{image_counter}.png')\n",
    "            cv2.imwrite(image_path, face_roi)\n",
    "            print(f'Saved: {image_path}')\n",
    "            image_counter += 1\n",
    "\n",
    "    # Break the loop if 'q' is pressed\n",
    "    if key == ord('q'):\n",
    "        break\n",
    "\n",
    "# Release the webcam and close all windows\n",
    "cap.release()\n",
    "cv2.destroyAllWindows()\n"
   ]
  },
  {
   "cell_type": "code",
   "execution_count": null,
   "metadata": {},
   "outputs": [],
   "source": []
  },
  {
   "cell_type": "code",
   "execution_count": null,
   "metadata": {},
   "outputs": [],
   "source": []
  },
  {
   "cell_type": "code",
   "execution_count": null,
   "metadata": {},
   "outputs": [],
   "source": []
  },
  {
   "cell_type": "code",
   "execution_count": null,
   "metadata": {},
   "outputs": [],
   "source": []
  },
  {
   "cell_type": "code",
   "execution_count": null,
   "metadata": {},
   "outputs": [],
   "source": []
  },
  {
   "cell_type": "code",
   "execution_count": null,
   "metadata": {},
   "outputs": [],
   "source": []
  },
  {
   "cell_type": "code",
   "execution_count": null,
   "metadata": {},
   "outputs": [],
   "source": []
  },
  {
   "cell_type": "code",
   "execution_count": null,
   "metadata": {},
   "outputs": [],
   "source": []
  },
  {
   "cell_type": "code",
   "execution_count": null,
   "metadata": {},
   "outputs": [],
   "source": [
    "train_data_dir = './Dataset/Training'\n",
    "test_data_dir = './Dataset/Testing'"
   ]
  },
  {
   "cell_type": "code",
   "execution_count": null,
   "metadata": {},
   "outputs": [],
   "source": []
  },
  {
   "cell_type": "code",
   "execution_count": null,
   "metadata": {},
   "outputs": [],
   "source": [
    "from tensorflow.keras import layers, models\n",
    "from tensorflow.keras.preprocessing.image import ImageDataGenerator"
   ]
  },
  {
   "cell_type": "code",
   "execution_count": null,
   "metadata": {},
   "outputs": [],
   "source": [
    "# image_size -->\n",
    "img_size = (128, 128)\n",
    "batch_size=32\n",
    "# intializing\n",
    "train_datagen = ImageDataGenerator(\n",
    "rescale= 1./255\n",
    ")\n",
    "\n"
   ]
  },
  {
   "cell_type": "code",
   "execution_count": null,
   "metadata": {},
   "outputs": [],
   "source": [
    "\n",
    "train_generator = train_datagen.flow_from_directory(\n",
    "    train_data_dir,\n",
    "    target_size = img_size,\n",
    "    batch_size=32,\n",
    "    class_mode = 'categorical'\n",
    ")"
   ]
  },
  {
   "cell_type": "code",
   "execution_count": null,
   "metadata": {},
   "outputs": [],
   "source": [
    "num_classes = len(train_generator.class_indices)\n",
    "print(num_classes)"
   ]
  },
  {
   "cell_type": "code",
   "execution_count": null,
   "metadata": {},
   "outputs": [],
   "source": [
    "input_shape = (128, 128, 3)"
   ]
  },
  {
   "cell_type": "code",
   "execution_count": null,
   "metadata": {},
   "outputs": [],
   "source": [
    "model = models.Sequential([\n",
    "        # First Convolutional Block\n",
    "        layers.Conv2D(32, (3, 3), activation='relu', input_shape=input_shape),\n",
    "        layers.MaxPooling2D((2, 2)),\n",
    "\n",
    "#         layers.BatchNormalization(),\n",
    "        layers.Conv2D(64, (3, 3), activation='relu'),\n",
    "        layers.MaxPooling2D((2, 2)),\n",
    "\n",
    "#         layers.BatchNormalization(),\n",
    "#         layers.Dropout(0.25),\n",
    "\n",
    "        # Second Convolutional Block\n",
    "#         layers.Conv2D(64, (3, 3), activation='relu', padding='same'),\n",
    "#         layers.BatchNormalization(),\n",
    "#         layers.Conv2D(64, (3, 3), activation='relu', padding='same'),\n",
    "#         layers.BatchNormalization(),\n",
    "#         layers.MaxPooling2D((2, 2)),\n",
    "#         layers.Dropout(0.25),\n",
    "\n",
    "        # Third Convolutional Block\n",
    "#         layers.Conv2D(128, (3, 3), activation='relu', padding='same'),\n",
    "#         layers.BatchNormalization(),\n",
    "#         layers.Conv2D(128, (3, 3), activation='relu', padding='same'),\n",
    "#         layers.BatchNormalization(),\n",
    "#         layers.MaxPooling2D((2, 2)),\n",
    "#         layers.Dropout(0.25),\n",
    "\n",
    "        # Flatten and Dense Layers\n",
    "        layers.Flatten(),\n",
    "        layers.Dense(16, activation='relu'),\n",
    "#         layers.BatchNormalization(),\n",
    "#         layers.Dropout(0.5),\n",
    "        layers.Dense(32, activation='relu'),\n",
    "#         layers.BatchNormalization(),\n",
    "#         layers.Dropout(0.5),\n",
    "        layers.Dense(num_classes, activation='softmax')\n",
    "    ])"
   ]
  },
  {
   "cell_type": "code",
   "execution_count": null,
   "metadata": {},
   "outputs": [],
   "source": [
    "model.compile(optimizer='adam',\n",
    "              loss='categorical_crossentropy',\n",
    "              metrics=['accuracy'])"
   ]
  },
  {
   "cell_type": "code",
   "execution_count": null,
   "metadata": {},
   "outputs": [],
   "source": [
    "\n",
    "from PIL import Image\n",
    "model.fit(train_generator, epochs=7)"
   ]
  },
  {
   "cell_type": "code",
   "execution_count": null,
   "metadata": {},
   "outputs": [],
   "source": [
    "test_datagen = ImageDataGenerator()\n",
    "test_generator = test_datagen.flow_from_directory(\n",
    "    test_data_dir,\n",
    "    target_size = img_size,\n",
    "    batch_size=32,\n",
    "    class_mode = 'categorical'\n",
    ")"
   ]
  },
  {
   "cell_type": "code",
   "execution_count": null,
   "metadata": {},
   "outputs": [],
   "source": [
    "accuracy = model.evaluate(test_generator)\n"
   ]
  },
  {
   "cell_type": "code",
   "execution_count": null,
   "metadata": {},
   "outputs": [],
   "source": [
    "y_pred = model.predict(test_generator)\n",
    "print(y_pred)"
   ]
  },
  {
   "cell_type": "code",
   "execution_count": null,
   "metadata": {},
   "outputs": [],
   "source": []
  },
  {
   "cell_type": "code",
   "execution_count": null,
   "metadata": {},
   "outputs": [],
   "source": [
    "from tensorflow.keras.models import load_model\n",
    "\n",
    "model.save('model.h5')  "
   ]
  },
  {
   "cell_type": "code",
   "execution_count": null,
   "metadata": {},
   "outputs": [],
   "source": [
    "import cv2\n",
    "import numpy as np\n",
    "import tflite_runtime.interpreter as tflite\n",
    "import RPi.GPIO as GPIO\n",
    "import time\n",
    "import sys\n",
    "\n",
    "# GPIO setup\n",
    "servo_pin = 18\n",
    "GPIO.setmode(GPIO.BCM)\n",
    "GPIO.setup(servo_pin, GPIO.OUT)\n",
    "servo = GPIO.PWM(servo_pin, 50)\n",
    "servo.start(0)\n",
    "\n",
    "# Move servo to 0 degrees\n",
    "servo.ChangeDutyCycle(2.5)\n",
    "time.sleep(1)\n",
    "servo.ChangeDutyCycle(0)\n",
    "\n",
    "# Load the pre-trained face detector\n",
    "face_cascade = cv2.CascadeClassifier(cv2.data.haarcascades + 'haarcascade_frontalface_default.xml')\n",
    "\n",
    "# Load the TensorFlow Lite model\n",
    "interpreter = tflite.Interpreter(model_path=\"model.tflite\")\n",
    "interpreter.allocate_tensors()\n",
    "\n",
    "# Get input and output tensors\n",
    "input_details = interpreter.get_input_details()\n",
    "output_details = interpreter.get_output_details()\n",
    "\n",
    "# Open a connection to the webcam\n",
    "cap = cv2.VideoCapture(0)\n",
    "\n",
    "# Define the target size for the model input\n",
    "target_size = (128, 128)\n",
    "\n",
    "# Assume we have the class names (update this based on your actual class names)\n",
    "class_names = ['Skylar', 'Johnny', 'Tim']  # Replace with your actual class names\n",
    "\n",
    "try:\n",
    "    while True:\n",
    "        # Read a frame from the webcam\n",
    "        ret, frame = cap.read()\n",
    "        if not ret:\n",
    "            print(\"Failed to capture frame\")\n",
    "            break\n",
    "\n",
    "        # Convert frame to grayscale for face detection\n",
    "        gray = cv2.cvtColor(frame, cv2.COLOR_BGR2GRAY)\n",
    "\n",
    "        # Detect faces in the frame\n",
    "        faces = face_cascade.detectMultiScale(gray, scaleFactor=1.1, minNeighbors=5, minSize=(30, 30))\n",
    "\n",
    "        for (x, y, w, h) in faces:\n",
    "            # Draw a rectangle around the face\n",
    "            cv2.rectangle(frame, (x, y), (x+w, y+h), (0, 255, 0), 2)\n",
    "\n",
    "            # Extract the face ROI\n",
    "            face_roi = frame[y:y+h, x:x+w]\n",
    "            cv2.imwrite(\"Image.png\", face_roi)\n",
    "\n",
    "            # Preprocess the face image for the model\n",
    "            face_image = cv2.resize(face_roi, target_size)\n",
    "            face_image = face_image.astype(np.float32)\n",
    "            face_image = np.expand_dims(face_image, axis=0)\n",
    "            face_image = face_image / 255.0  # Normalize pixel values\n",
    "\n",
    "            # Make prediction\n",
    "            interpreter.set_tensor(input_details[0]['index'], face_image)\n",
    "            interpreter.invoke()\n",
    "            prediction = interpreter.get_tensor(output_details[0]['index'])\n",
    "            predicted_class = class_names[np.argmax(prediction)]\n",
    "            confidence = np.max(prediction)\n",
    "\n",
    "            if predicted_class != \"Skylar\":\n",
    "                print(f\"Detected {predicted_class}!\")\n",
    "                servo.ChangeDutyCycle(7.5)  # Move to 90 degrees\n",
    "                time.sleep(1)\n",
    "                servo.ChangeDutyCycle(0)\n",
    "                raise SystemExit\n",
    "\n",
    "            # Display the prediction on the frame\n",
    "            text = f'{predicted_class}: {confidence:.2f}'\n",
    "            cv2.putText(frame, text, (x, y-10), cv2.FONT_HERSHEY_SIMPLEX, 0.9, (0, 255, 0), 2)\n",
    "\n",
    "        # Display the resulting frame\n",
    "        cv2.imshow('Face Recognition', frame)\n",
    "\n",
    "        # Break the loop if 'q' is pressed\n",
    "        if cv2.waitKey(1) & 0xFF == ord('q'):\n",
    "            break\n",
    "\n",
    "except SystemExit:\n",
    "    print(\"Exiting program\")\n",
    "except Exception as e:\n",
    "    print(f\"An error occurred: {e}\")\n",
    "finally:\n",
    "    # Release the webcam and close all windows\n",
    "    cap.release()\n",
    "    cv2.destroyAllWindows()\n",
    "    servo.stop()\n",
    "    GPIO.cleanup()"
   ]
  },
  {
   "cell_type": "code",
   "execution_count": null,
   "metadata": {},
   "outputs": [],
   "source": [
    "import tensorflow as tf\n",
    "print(tf.__version__)"
   ]
  }
 ],
 "metadata": {
  "kernelspec": {
   "display_name": "facemodel",
   "language": "python",
   "name": "facemodel"
  },
  "language_info": {
   "codemirror_mode": {
    "name": "ipython",
    "version": 3
   },
   "file_extension": ".py",
   "mimetype": "text/x-python",
   "name": "python",
   "nbconvert_exporter": "python",
   "pygments_lexer": "ipython3",
   "version": "3.12.0"
  }
 },
 "nbformat": 4,
 "nbformat_minor": 2
}
